{
 "cells": [
  {
   "cell_type": "code",
   "execution_count": 1,
   "metadata": {},
   "outputs": [],
   "source": [
    "import numpy as np\n",
    "from scipy import signal"
   ]
  },
  {
   "cell_type": "code",
   "execution_count": 2,
   "metadata": {},
   "outputs": [],
   "source": [
    "I = np.random.rand(32,32)\n",
    "mx = np.array([[-1,-1,-1],[0,0,0],[-1,-1,-1]])\n",
    "my = mx.T"
   ]
  },
  {
   "cell_type": "code",
   "execution_count": 3,
   "metadata": {},
   "outputs": [],
   "source": [
    "Ix = signal.convolve2d(I,mx,boundary='symm',mode='same')\n",
    "Iy = signal.convolve2d(I,my,boundary='symm',mode='same')"
   ]
  },
  {
   "cell_type": "code",
   "execution_count": 4,
   "metadata": {},
   "outputs": [],
   "source": [
    "Ix2 = Ix*Ix\n",
    "Iy2 = Iy*Iy\n",
    "IxIy = Ix*Iy"
   ]
  },
  {
   "cell_type": "code",
   "execution_count": 5,
   "metadata": {},
   "outputs": [],
   "source": [
    "m = np.ones((5,5))"
   ]
  },
  {
   "cell_type": "code",
   "execution_count": 8,
   "metadata": {},
   "outputs": [],
   "source": [
    "SIx2 = signal.convolve2d(Ix2,m,boundary='symm',mode='same')\n",
    "SIy2 = signal.convolve2d(Iy2,m,boundary='symm',mode='same')\n",
    "SIxIy = signal.convolve2d(IxIy,m,boundary='symm',mode='same')"
   ]
  },
  {
   "cell_type": "code",
   "execution_count": 10,
   "metadata": {},
   "outputs": [],
   "source": [
    "A = np.ones(SIx2.shape)\n",
    "D = SIx2+SIy2\n",
    "F = SIx2*SIy2-SIxIy*SIxIy"
   ]
  },
  {
   "cell_type": "code",
   "execution_count": 12,
   "metadata": {},
   "outputs": [],
   "source": [
    "L1 = (-D+(D*D-4*A*F)**0.5)/(2*A)\n",
    "L2 = (-D-(D*D-4*A*F)**0.5)/(2*A)"
   ]
  },
  {
   "cell_type": "code",
   "execution_count": null,
   "metadata": {},
   "outputs": [],
   "source": []
  }
 ],
 "metadata": {
  "kernelspec": {
   "display_name": "Python 3",
   "language": "python",
   "name": "python3"
  },
  "language_info": {
   "codemirror_mode": {
    "name": "ipython",
    "version": 3
   },
   "file_extension": ".py",
   "mimetype": "text/x-python",
   "name": "python",
   "nbconvert_exporter": "python",
   "pygments_lexer": "ipython3",
   "version": "3.8.3"
  }
 },
 "nbformat": 4,
 "nbformat_minor": 4
}
